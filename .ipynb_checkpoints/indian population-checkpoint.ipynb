{
 "cells": [
  {
   "cell_type": "markdown",
   "metadata": {},
   "source": [
    "# Inian population data set exploring"
   ]
  },
  {
   "cell_type": "markdown",
   "metadata": {},
   "source": [
    "#### Importing pandas and matplotlib"
   ]
  },
  {
   "cell_type": "code",
   "execution_count": 2,
   "metadata": {
    "collapsed": true
   },
   "outputs": [],
   "source": [
    "import pandas as pd, matplotlib as mpl"
   ]
  },
  {
   "cell_type": "markdown",
   "metadata": {},
   "source": [
    "#### Create a data frame from the xl sheet"
   ]
  },
  {
   "cell_type": "code",
   "execution_count": 3,
   "metadata": {
    "collapsed": false
   },
   "outputs": [],
   "source": [
    "main_df = pd.read_excel(\"http://www.censusindia.gov.in/2011census/C-series/c-13/DDW-0000C-13.xls\", header=None)\n",
    "df = main_df"
   ]
  },
  {
   "cell_type": "markdown",
   "metadata": {},
   "source": [
    "#### Data check by showing head"
   ]
  },
  {
   "cell_type": "code",
   "execution_count": 4,
   "metadata": {
    "collapsed": false
   },
   "outputs": [
    {
     "data": {
      "text/html": [
       "<div>\n",
       "<table border=\"1\" class=\"dataframe\">\n",
       "  <thead>\n",
       "    <tr style=\"text-align: right;\">\n",
       "      <th></th>\n",
       "      <th>0</th>\n",
       "      <th>1</th>\n",
       "      <th>2</th>\n",
       "      <th>3</th>\n",
       "      <th>4</th>\n",
       "      <th>5</th>\n",
       "      <th>6</th>\n",
       "      <th>7</th>\n",
       "      <th>8</th>\n",
       "      <th>9</th>\n",
       "      <th>10</th>\n",
       "      <th>11</th>\n",
       "      <th>12</th>\n",
       "      <th>13</th>\n",
       "    </tr>\n",
       "  </thead>\n",
       "  <tbody>\n",
       "    <tr>\n",
       "      <th>0</th>\n",
       "      <td>NaN</td>\n",
       "      <td>NaN</td>\n",
       "      <td>NaN</td>\n",
       "      <td>NaN</td>\n",
       "      <td>C-13 SINGLE YEAR AGE RETURNS BY RESIDENCE AND ...</td>\n",
       "      <td>NaN</td>\n",
       "      <td>NaN</td>\n",
       "      <td>NaN</td>\n",
       "      <td>NaN</td>\n",
       "      <td>NaN</td>\n",
       "      <td>NaN</td>\n",
       "      <td>NaN</td>\n",
       "      <td>NaN</td>\n",
       "      <td>NaN</td>\n",
       "    </tr>\n",
       "    <tr>\n",
       "      <th>1</th>\n",
       "      <td>Table</td>\n",
       "      <td>State</td>\n",
       "      <td>Distt.</td>\n",
       "      <td>Area Name</td>\n",
       "      <td>Age</td>\n",
       "      <td>Total</td>\n",
       "      <td>NaN</td>\n",
       "      <td>NaN</td>\n",
       "      <td>Rural</td>\n",
       "      <td>NaN</td>\n",
       "      <td>NaN</td>\n",
       "      <td>Urban</td>\n",
       "      <td>NaN</td>\n",
       "      <td>NaN</td>\n",
       "    </tr>\n",
       "    <tr>\n",
       "      <th>2</th>\n",
       "      <td>Name</td>\n",
       "      <td>Code</td>\n",
       "      <td>Code</td>\n",
       "      <td>NaN</td>\n",
       "      <td>NaN</td>\n",
       "      <td>NaN</td>\n",
       "      <td>NaN</td>\n",
       "      <td>NaN</td>\n",
       "      <td>NaN</td>\n",
       "      <td>NaN</td>\n",
       "      <td>NaN</td>\n",
       "      <td>NaN</td>\n",
       "      <td>NaN</td>\n",
       "      <td>NaN</td>\n",
       "    </tr>\n",
       "    <tr>\n",
       "      <th>3</th>\n",
       "      <td>NaN</td>\n",
       "      <td>NaN</td>\n",
       "      <td>NaN</td>\n",
       "      <td>NaN</td>\n",
       "      <td>NaN</td>\n",
       "      <td>Persons</td>\n",
       "      <td>Males</td>\n",
       "      <td>Females</td>\n",
       "      <td>Persons</td>\n",
       "      <td>Males</td>\n",
       "      <td>Females</td>\n",
       "      <td>Persons</td>\n",
       "      <td>Males</td>\n",
       "      <td>Females</td>\n",
       "    </tr>\n",
       "    <tr>\n",
       "      <th>4</th>\n",
       "      <td>NaN</td>\n",
       "      <td>NaN</td>\n",
       "      <td>NaN</td>\n",
       "      <td>NaN</td>\n",
       "      <td>1</td>\n",
       "      <td>2</td>\n",
       "      <td>3</td>\n",
       "      <td>4</td>\n",
       "      <td>5</td>\n",
       "      <td>6</td>\n",
       "      <td>7</td>\n",
       "      <td>8</td>\n",
       "      <td>9</td>\n",
       "      <td>10</td>\n",
       "    </tr>\n",
       "  </tbody>\n",
       "</table>\n",
       "</div>"
      ],
      "text/plain": [
       "      0      1       2          3   \\\n",
       "0    NaN    NaN     NaN        NaN   \n",
       "1  Table  State  Distt.  Area Name   \n",
       "2   Name   Code    Code        NaN   \n",
       "3    NaN    NaN     NaN        NaN   \n",
       "4    NaN    NaN     NaN        NaN   \n",
       "\n",
       "                                                  4        5      6        7   \\\n",
       "0  C-13 SINGLE YEAR AGE RETURNS BY RESIDENCE AND ...      NaN    NaN      NaN   \n",
       "1                                                Age    Total    NaN      NaN   \n",
       "2                                                NaN      NaN    NaN      NaN   \n",
       "3                                                NaN  Persons  Males  Females   \n",
       "4                                                  1        2      3        4   \n",
       "\n",
       "        8      9        10       11     12       13  \n",
       "0      NaN    NaN      NaN      NaN    NaN      NaN  \n",
       "1    Rural    NaN      NaN    Urban    NaN      NaN  \n",
       "2      NaN    NaN      NaN      NaN    NaN      NaN  \n",
       "3  Persons  Males  Females  Persons  Males  Females  \n",
       "4        5      6        7        8      9       10  "
      ]
     },
     "execution_count": 4,
     "metadata": {},
     "output_type": "execute_result"
    }
   ],
   "source": [
    "df.head()"
   ]
  },
  {
   "cell_type": "code",
   "execution_count": 5,
   "metadata": {
    "collapsed": false
   },
   "outputs": [
    {
     "data": {
      "text/html": [
       "<div>\n",
       "<table border=\"1\" class=\"dataframe\">\n",
       "  <thead>\n",
       "    <tr style=\"text-align: right;\">\n",
       "      <th></th>\n",
       "      <th>0</th>\n",
       "      <th>1</th>\n",
       "      <th>2</th>\n",
       "      <th>3</th>\n",
       "      <th>4</th>\n",
       "      <th>5</th>\n",
       "      <th>6</th>\n",
       "      <th>7</th>\n",
       "      <th>8</th>\n",
       "      <th>9</th>\n",
       "      <th>10</th>\n",
       "      <th>11</th>\n",
       "      <th>12</th>\n",
       "      <th>13</th>\n",
       "    </tr>\n",
       "  </thead>\n",
       "  <tbody>\n",
       "    <tr>\n",
       "      <th>0</th>\n",
       "      <td>NaN</td>\n",
       "      <td>NaN</td>\n",
       "      <td>NaN</td>\n",
       "      <td>NaN</td>\n",
       "      <td>C-13 SINGLE YEAR AGE RETURNS BY RESIDENCE AND ...</td>\n",
       "      <td>NaN</td>\n",
       "      <td>NaN</td>\n",
       "      <td>NaN</td>\n",
       "      <td>NaN</td>\n",
       "      <td>NaN</td>\n",
       "      <td>NaN</td>\n",
       "      <td>NaN</td>\n",
       "      <td>NaN</td>\n",
       "      <td>NaN</td>\n",
       "    </tr>\n",
       "    <tr>\n",
       "      <th>1</th>\n",
       "      <td>Table</td>\n",
       "      <td>State</td>\n",
       "      <td>Distt.</td>\n",
       "      <td>Area Name</td>\n",
       "      <td>Age</td>\n",
       "      <td>Total</td>\n",
       "      <td>NaN</td>\n",
       "      <td>NaN</td>\n",
       "      <td>Rural</td>\n",
       "      <td>NaN</td>\n",
       "      <td>NaN</td>\n",
       "      <td>Urban</td>\n",
       "      <td>NaN</td>\n",
       "      <td>NaN</td>\n",
       "    </tr>\n",
       "    <tr>\n",
       "      <th>2</th>\n",
       "      <td>Name</td>\n",
       "      <td>Code</td>\n",
       "      <td>Code</td>\n",
       "      <td>NaN</td>\n",
       "      <td>NaN</td>\n",
       "      <td>NaN</td>\n",
       "      <td>NaN</td>\n",
       "      <td>NaN</td>\n",
       "      <td>NaN</td>\n",
       "      <td>NaN</td>\n",
       "      <td>NaN</td>\n",
       "      <td>NaN</td>\n",
       "      <td>NaN</td>\n",
       "      <td>NaN</td>\n",
       "    </tr>\n",
       "    <tr>\n",
       "      <th>3</th>\n",
       "      <td>NaN</td>\n",
       "      <td>NaN</td>\n",
       "      <td>NaN</td>\n",
       "      <td>NaN</td>\n",
       "      <td>NaN</td>\n",
       "      <td>Persons</td>\n",
       "      <td>Males</td>\n",
       "      <td>Females</td>\n",
       "      <td>Persons</td>\n",
       "      <td>Males</td>\n",
       "      <td>Females</td>\n",
       "      <td>Persons</td>\n",
       "      <td>Males</td>\n",
       "      <td>Females</td>\n",
       "    </tr>\n",
       "    <tr>\n",
       "      <th>4</th>\n",
       "      <td>NaN</td>\n",
       "      <td>NaN</td>\n",
       "      <td>NaN</td>\n",
       "      <td>NaN</td>\n",
       "      <td>1</td>\n",
       "      <td>2</td>\n",
       "      <td>3</td>\n",
       "      <td>4</td>\n",
       "      <td>5</td>\n",
       "      <td>6</td>\n",
       "      <td>7</td>\n",
       "      <td>8</td>\n",
       "      <td>9</td>\n",
       "      <td>10</td>\n",
       "    </tr>\n",
       "    <tr>\n",
       "      <th>5</th>\n",
       "      <td>NaN</td>\n",
       "      <td>NaN</td>\n",
       "      <td>NaN</td>\n",
       "      <td>NaN</td>\n",
       "      <td>NaN</td>\n",
       "      <td>NaN</td>\n",
       "      <td>NaN</td>\n",
       "      <td>NaN</td>\n",
       "      <td>NaN</td>\n",
       "      <td>NaN</td>\n",
       "      <td>NaN</td>\n",
       "      <td>NaN</td>\n",
       "      <td>NaN</td>\n",
       "      <td>NaN</td>\n",
       "    </tr>\n",
       "    <tr>\n",
       "      <th>6</th>\n",
       "      <td>NaN</td>\n",
       "      <td>NaN</td>\n",
       "      <td>NaN</td>\n",
       "      <td>NaN</td>\n",
       "      <td>NaN</td>\n",
       "      <td>NaN</td>\n",
       "      <td>NaN</td>\n",
       "      <td>NaN</td>\n",
       "      <td>NaN</td>\n",
       "      <td>NaN</td>\n",
       "      <td>NaN</td>\n",
       "      <td>NaN</td>\n",
       "      <td>NaN</td>\n",
       "      <td>NaN</td>\n",
       "    </tr>\n",
       "    <tr>\n",
       "      <th>7</th>\n",
       "      <td>C1300</td>\n",
       "      <td>00</td>\n",
       "      <td>000</td>\n",
       "      <td>India</td>\n",
       "      <td>All ages</td>\n",
       "      <td>1210854977</td>\n",
       "      <td>623270258</td>\n",
       "      <td>587584719</td>\n",
       "      <td>833748852</td>\n",
       "      <td>427781058</td>\n",
       "      <td>405967794</td>\n",
       "      <td>377106125</td>\n",
       "      <td>195489200</td>\n",
       "      <td>181616925</td>\n",
       "    </tr>\n",
       "    <tr>\n",
       "      <th>8</th>\n",
       "      <td>C1300</td>\n",
       "      <td>00</td>\n",
       "      <td>000</td>\n",
       "      <td>India</td>\n",
       "      <td>0</td>\n",
       "      <td>20311234</td>\n",
       "      <td>10633298</td>\n",
       "      <td>9677936</td>\n",
       "      <td>14884690</td>\n",
       "      <td>7784009</td>\n",
       "      <td>7100681</td>\n",
       "      <td>5426544</td>\n",
       "      <td>2849289</td>\n",
       "      <td>2577255</td>\n",
       "    </tr>\n",
       "    <tr>\n",
       "      <th>9</th>\n",
       "      <td>C1300</td>\n",
       "      <td>00</td>\n",
       "      <td>000</td>\n",
       "      <td>India</td>\n",
       "      <td>1</td>\n",
       "      <td>21755197</td>\n",
       "      <td>11381468</td>\n",
       "      <td>10373729</td>\n",
       "      <td>15731709</td>\n",
       "      <td>8216086</td>\n",
       "      <td>7515623</td>\n",
       "      <td>6023488</td>\n",
       "      <td>3165382</td>\n",
       "      <td>2858106</td>\n",
       "    </tr>\n",
       "    <tr>\n",
       "      <th>10</th>\n",
       "      <td>C1300</td>\n",
       "      <td>00</td>\n",
       "      <td>000</td>\n",
       "      <td>India</td>\n",
       "      <td>2</td>\n",
       "      <td>23056268</td>\n",
       "      <td>11952853</td>\n",
       "      <td>11103415</td>\n",
       "      <td>17065758</td>\n",
       "      <td>8827253</td>\n",
       "      <td>8238505</td>\n",
       "      <td>5990510</td>\n",
       "      <td>3125600</td>\n",
       "      <td>2864910</td>\n",
       "    </tr>\n",
       "    <tr>\n",
       "      <th>11</th>\n",
       "      <td>C1300</td>\n",
       "      <td>00</td>\n",
       "      <td>000</td>\n",
       "      <td>India</td>\n",
       "      <td>3</td>\n",
       "      <td>23974041</td>\n",
       "      <td>12331431</td>\n",
       "      <td>11642610</td>\n",
       "      <td>17778869</td>\n",
       "      <td>9116778</td>\n",
       "      <td>8662091</td>\n",
       "      <td>6195172</td>\n",
       "      <td>3214653</td>\n",
       "      <td>2980519</td>\n",
       "    </tr>\n",
       "    <tr>\n",
       "      <th>12</th>\n",
       "      <td>C1300</td>\n",
       "      <td>00</td>\n",
       "      <td>000</td>\n",
       "      <td>India</td>\n",
       "      <td>4</td>\n",
       "      <td>23710038</td>\n",
       "      <td>12333024</td>\n",
       "      <td>11377014</td>\n",
       "      <td>17525634</td>\n",
       "      <td>9092251</td>\n",
       "      <td>8433383</td>\n",
       "      <td>6184404</td>\n",
       "      <td>3240773</td>\n",
       "      <td>2943631</td>\n",
       "    </tr>\n",
       "    <tr>\n",
       "      <th>13</th>\n",
       "      <td>C1300</td>\n",
       "      <td>00</td>\n",
       "      <td>000</td>\n",
       "      <td>India</td>\n",
       "      <td>5</td>\n",
       "      <td>26054230</td>\n",
       "      <td>13725480</td>\n",
       "      <td>12328750</td>\n",
       "      <td>19294779</td>\n",
       "      <td>10139548</td>\n",
       "      <td>9155231</td>\n",
       "      <td>6759451</td>\n",
       "      <td>3585932</td>\n",
       "      <td>3173519</td>\n",
       "    </tr>\n",
       "    <tr>\n",
       "      <th>14</th>\n",
       "      <td>C1300</td>\n",
       "      <td>00</td>\n",
       "      <td>000</td>\n",
       "      <td>India</td>\n",
       "      <td>6</td>\n",
       "      <td>25654245</td>\n",
       "      <td>13394700</td>\n",
       "      <td>12259545</td>\n",
       "      <td>19041426</td>\n",
       "      <td>9908524</td>\n",
       "      <td>9132902</td>\n",
       "      <td>6612819</td>\n",
       "      <td>3486176</td>\n",
       "      <td>3126643</td>\n",
       "    </tr>\n",
       "    <tr>\n",
       "      <th>15</th>\n",
       "      <td>C1300</td>\n",
       "      <td>00</td>\n",
       "      <td>000</td>\n",
       "      <td>India</td>\n",
       "      <td>7</td>\n",
       "      <td>24826640</td>\n",
       "      <td>12903364</td>\n",
       "      <td>11923276</td>\n",
       "      <td>18149844</td>\n",
       "      <td>9399767</td>\n",
       "      <td>8750077</td>\n",
       "      <td>6676796</td>\n",
       "      <td>3503597</td>\n",
       "      <td>3173199</td>\n",
       "    </tr>\n",
       "    <tr>\n",
       "      <th>16</th>\n",
       "      <td>C1300</td>\n",
       "      <td>00</td>\n",
       "      <td>000</td>\n",
       "      <td>India</td>\n",
       "      <td>8</td>\n",
       "      <td>26968373</td>\n",
       "      <td>14061937</td>\n",
       "      <td>12906436</td>\n",
       "      <td>20206981</td>\n",
       "      <td>10497018</td>\n",
       "      <td>9709963</td>\n",
       "      <td>6761392</td>\n",
       "      <td>3564919</td>\n",
       "      <td>3196473</td>\n",
       "    </tr>\n",
       "    <tr>\n",
       "      <th>17</th>\n",
       "      <td>C1300</td>\n",
       "      <td>00</td>\n",
       "      <td>000</td>\n",
       "      <td>India</td>\n",
       "      <td>9</td>\n",
       "      <td>23424638</td>\n",
       "      <td>12214985</td>\n",
       "      <td>11209653</td>\n",
       "      <td>17114582</td>\n",
       "      <td>8880402</td>\n",
       "      <td>8234180</td>\n",
       "      <td>6310056</td>\n",
       "      <td>3334583</td>\n",
       "      <td>2975473</td>\n",
       "    </tr>\n",
       "    <tr>\n",
       "      <th>18</th>\n",
       "      <td>C1300</td>\n",
       "      <td>00</td>\n",
       "      <td>000</td>\n",
       "      <td>India</td>\n",
       "      <td>10</td>\n",
       "      <td>30552107</td>\n",
       "      <td>16089436</td>\n",
       "      <td>14462671</td>\n",
       "      <td>22687766</td>\n",
       "      <td>11899758</td>\n",
       "      <td>10788008</td>\n",
       "      <td>7864341</td>\n",
       "      <td>4189678</td>\n",
       "      <td>3674663</td>\n",
       "    </tr>\n",
       "    <tr>\n",
       "      <th>19</th>\n",
       "      <td>C1300</td>\n",
       "      <td>00</td>\n",
       "      <td>000</td>\n",
       "      <td>India</td>\n",
       "      <td>11</td>\n",
       "      <td>24740946</td>\n",
       "      <td>12962604</td>\n",
       "      <td>11778342</td>\n",
       "      <td>17851313</td>\n",
       "      <td>9319598</td>\n",
       "      <td>8531715</td>\n",
       "      <td>6889633</td>\n",
       "      <td>3643006</td>\n",
       "      <td>3246627</td>\n",
       "    </tr>\n",
       "  </tbody>\n",
       "</table>\n",
       "</div>"
      ],
      "text/plain": [
       "       0      1       2          3   \\\n",
       "0     NaN    NaN     NaN        NaN   \n",
       "1   Table  State  Distt.  Area Name   \n",
       "2    Name   Code    Code        NaN   \n",
       "3     NaN    NaN     NaN        NaN   \n",
       "4     NaN    NaN     NaN        NaN   \n",
       "5     NaN    NaN     NaN        NaN   \n",
       "6     NaN    NaN     NaN        NaN   \n",
       "7   C1300     00     000      India   \n",
       "8   C1300     00     000      India   \n",
       "9   C1300     00     000      India   \n",
       "10  C1300     00     000      India   \n",
       "11  C1300     00     000      India   \n",
       "12  C1300     00     000      India   \n",
       "13  C1300     00     000      India   \n",
       "14  C1300     00     000      India   \n",
       "15  C1300     00     000      India   \n",
       "16  C1300     00     000      India   \n",
       "17  C1300     00     000      India   \n",
       "18  C1300     00     000      India   \n",
       "19  C1300     00     000      India   \n",
       "\n",
       "                                                   4           5          6   \\\n",
       "0   C-13 SINGLE YEAR AGE RETURNS BY RESIDENCE AND ...         NaN        NaN   \n",
       "1                                                 Age       Total        NaN   \n",
       "2                                                 NaN         NaN        NaN   \n",
       "3                                                 NaN     Persons      Males   \n",
       "4                                                   1           2          3   \n",
       "5                                                 NaN         NaN        NaN   \n",
       "6                                                 NaN         NaN        NaN   \n",
       "7                                            All ages  1210854977  623270258   \n",
       "8                                                   0    20311234   10633298   \n",
       "9                                                   1    21755197   11381468   \n",
       "10                                                  2    23056268   11952853   \n",
       "11                                                  3    23974041   12331431   \n",
       "12                                                  4    23710038   12333024   \n",
       "13                                                  5    26054230   13725480   \n",
       "14                                                  6    25654245   13394700   \n",
       "15                                                  7    24826640   12903364   \n",
       "16                                                  8    26968373   14061937   \n",
       "17                                                  9    23424638   12214985   \n",
       "18                                                 10    30552107   16089436   \n",
       "19                                                 11    24740946   12962604   \n",
       "\n",
       "           7          8          9          10         11         12  \\\n",
       "0         NaN        NaN        NaN        NaN        NaN        NaN   \n",
       "1         NaN      Rural        NaN        NaN      Urban        NaN   \n",
       "2         NaN        NaN        NaN        NaN        NaN        NaN   \n",
       "3     Females    Persons      Males    Females    Persons      Males   \n",
       "4           4          5          6          7          8          9   \n",
       "5         NaN        NaN        NaN        NaN        NaN        NaN   \n",
       "6         NaN        NaN        NaN        NaN        NaN        NaN   \n",
       "7   587584719  833748852  427781058  405967794  377106125  195489200   \n",
       "8     9677936   14884690    7784009    7100681    5426544    2849289   \n",
       "9    10373729   15731709    8216086    7515623    6023488    3165382   \n",
       "10   11103415   17065758    8827253    8238505    5990510    3125600   \n",
       "11   11642610   17778869    9116778    8662091    6195172    3214653   \n",
       "12   11377014   17525634    9092251    8433383    6184404    3240773   \n",
       "13   12328750   19294779   10139548    9155231    6759451    3585932   \n",
       "14   12259545   19041426    9908524    9132902    6612819    3486176   \n",
       "15   11923276   18149844    9399767    8750077    6676796    3503597   \n",
       "16   12906436   20206981   10497018    9709963    6761392    3564919   \n",
       "17   11209653   17114582    8880402    8234180    6310056    3334583   \n",
       "18   14462671   22687766   11899758   10788008    7864341    4189678   \n",
       "19   11778342   17851313    9319598    8531715    6889633    3643006   \n",
       "\n",
       "           13  \n",
       "0         NaN  \n",
       "1         NaN  \n",
       "2         NaN  \n",
       "3     Females  \n",
       "4          10  \n",
       "5         NaN  \n",
       "6         NaN  \n",
       "7   181616925  \n",
       "8     2577255  \n",
       "9     2858106  \n",
       "10    2864910  \n",
       "11    2980519  \n",
       "12    2943631  \n",
       "13    3173519  \n",
       "14    3126643  \n",
       "15    3173199  \n",
       "16    3196473  \n",
       "17    2975473  \n",
       "18    3674663  \n",
       "19    3246627  "
      ]
     },
     "execution_count": 5,
     "metadata": {},
     "output_type": "execute_result"
    }
   ],
   "source": [
    "df.head(20)"
   ]
  },
  {
   "cell_type": "markdown",
   "metadata": {},
   "source": [
    "#### see what the axes are"
   ]
  },
  {
   "cell_type": "code",
   "execution_count": 6,
   "metadata": {
    "collapsed": false
   },
   "outputs": [
    {
     "data": {
      "text/plain": [
       "[RangeIndex(start=0, stop=3715, step=1),\n",
       " Int64Index([0, 1, 2, 3, 4, 5, 6, 7, 8, 9, 10, 11, 12, 13], dtype='int64')]"
      ]
     },
     "execution_count": 6,
     "metadata": {},
     "output_type": "execute_result"
    }
   ],
   "source": [
    "df.axes"
   ]
  },
  {
   "cell_type": "markdown",
   "metadata": {},
   "source": [
    "#### Now remove unnecessary rows from the top"
   ]
  },
  {
   "cell_type": "code",
   "execution_count": 7,
   "metadata": {
    "collapsed": true
   },
   "outputs": [],
   "source": [
    "df = df.ix[7:]"
   ]
  },
  {
   "cell_type": "code",
   "execution_count": 8,
   "metadata": {
    "collapsed": false
   },
   "outputs": [
    {
     "data": {
      "text/html": [
       "<div>\n",
       "<table border=\"1\" class=\"dataframe\">\n",
       "  <thead>\n",
       "    <tr style=\"text-align: right;\">\n",
       "      <th></th>\n",
       "      <th>0</th>\n",
       "      <th>1</th>\n",
       "      <th>2</th>\n",
       "      <th>3</th>\n",
       "      <th>4</th>\n",
       "      <th>5</th>\n",
       "      <th>6</th>\n",
       "      <th>7</th>\n",
       "      <th>8</th>\n",
       "      <th>9</th>\n",
       "      <th>10</th>\n",
       "      <th>11</th>\n",
       "      <th>12</th>\n",
       "      <th>13</th>\n",
       "    </tr>\n",
       "  </thead>\n",
       "  <tbody>\n",
       "    <tr>\n",
       "      <th>7</th>\n",
       "      <td>C1300</td>\n",
       "      <td>00</td>\n",
       "      <td>000</td>\n",
       "      <td>India</td>\n",
       "      <td>All ages</td>\n",
       "      <td>1210854977</td>\n",
       "      <td>623270258</td>\n",
       "      <td>587584719</td>\n",
       "      <td>833748852</td>\n",
       "      <td>427781058</td>\n",
       "      <td>405967794</td>\n",
       "      <td>377106125</td>\n",
       "      <td>195489200</td>\n",
       "      <td>181616925</td>\n",
       "    </tr>\n",
       "    <tr>\n",
       "      <th>8</th>\n",
       "      <td>C1300</td>\n",
       "      <td>00</td>\n",
       "      <td>000</td>\n",
       "      <td>India</td>\n",
       "      <td>0</td>\n",
       "      <td>20311234</td>\n",
       "      <td>10633298</td>\n",
       "      <td>9677936</td>\n",
       "      <td>14884690</td>\n",
       "      <td>7784009</td>\n",
       "      <td>7100681</td>\n",
       "      <td>5426544</td>\n",
       "      <td>2849289</td>\n",
       "      <td>2577255</td>\n",
       "    </tr>\n",
       "    <tr>\n",
       "      <th>9</th>\n",
       "      <td>C1300</td>\n",
       "      <td>00</td>\n",
       "      <td>000</td>\n",
       "      <td>India</td>\n",
       "      <td>1</td>\n",
       "      <td>21755197</td>\n",
       "      <td>11381468</td>\n",
       "      <td>10373729</td>\n",
       "      <td>15731709</td>\n",
       "      <td>8216086</td>\n",
       "      <td>7515623</td>\n",
       "      <td>6023488</td>\n",
       "      <td>3165382</td>\n",
       "      <td>2858106</td>\n",
       "    </tr>\n",
       "    <tr>\n",
       "      <th>10</th>\n",
       "      <td>C1300</td>\n",
       "      <td>00</td>\n",
       "      <td>000</td>\n",
       "      <td>India</td>\n",
       "      <td>2</td>\n",
       "      <td>23056268</td>\n",
       "      <td>11952853</td>\n",
       "      <td>11103415</td>\n",
       "      <td>17065758</td>\n",
       "      <td>8827253</td>\n",
       "      <td>8238505</td>\n",
       "      <td>5990510</td>\n",
       "      <td>3125600</td>\n",
       "      <td>2864910</td>\n",
       "    </tr>\n",
       "    <tr>\n",
       "      <th>11</th>\n",
       "      <td>C1300</td>\n",
       "      <td>00</td>\n",
       "      <td>000</td>\n",
       "      <td>India</td>\n",
       "      <td>3</td>\n",
       "      <td>23974041</td>\n",
       "      <td>12331431</td>\n",
       "      <td>11642610</td>\n",
       "      <td>17778869</td>\n",
       "      <td>9116778</td>\n",
       "      <td>8662091</td>\n",
       "      <td>6195172</td>\n",
       "      <td>3214653</td>\n",
       "      <td>2980519</td>\n",
       "    </tr>\n",
       "  </tbody>\n",
       "</table>\n",
       "</div>"
      ],
      "text/plain": [
       "       0   1    2      3         4           5          6          7   \\\n",
       "7   C1300  00  000  India  All ages  1210854977  623270258  587584719   \n",
       "8   C1300  00  000  India         0    20311234   10633298    9677936   \n",
       "9   C1300  00  000  India         1    21755197   11381468   10373729   \n",
       "10  C1300  00  000  India         2    23056268   11952853   11103415   \n",
       "11  C1300  00  000  India         3    23974041   12331431   11642610   \n",
       "\n",
       "           8          9          10         11         12         13  \n",
       "7   833748852  427781058  405967794  377106125  195489200  181616925  \n",
       "8    14884690    7784009    7100681    5426544    2849289    2577255  \n",
       "9    15731709    8216086    7515623    6023488    3165382    2858106  \n",
       "10   17065758    8827253    8238505    5990510    3125600    2864910  \n",
       "11   17778869    9116778    8662091    6195172    3214653    2980519  "
      ]
     },
     "execution_count": 8,
     "metadata": {},
     "output_type": "execute_result"
    }
   ],
   "source": [
    "df.head()"
   ]
  },
  {
   "cell_type": "markdown",
   "metadata": {},
   "source": [
    "### Drop columns 1,2,3 inplace without reassigning it to df"
   ]
  },
  {
   "cell_type": "code",
   "execution_count": 9,
   "metadata": {
    "collapsed": false
   },
   "outputs": [],
   "source": [
    "columns_to_remove = df.columns[[0,1,2]]"
   ]
  },
  {
   "cell_type": "code",
   "execution_count": 10,
   "metadata": {
    "collapsed": false
   },
   "outputs": [
    {
     "name": "stderr",
     "output_type": "stream",
     "text": [
      "C:\\Program Files\\Anaconda3\\lib\\site-packages\\ipykernel\\__main__.py:1: SettingWithCopyWarning: \n",
      "A value is trying to be set on a copy of a slice from a DataFrame\n",
      "\n",
      "See the caveats in the documentation: http://pandas.pydata.org/pandas-docs/stable/indexing.html#indexing-view-versus-copy\n",
      "  if __name__ == '__main__':\n"
     ]
    }
   ],
   "source": [
    "df.drop( columns_to_remove , axis = 1 , inplace = True )"
   ]
  },
  {
   "cell_type": "code",
   "execution_count": 11,
   "metadata": {
    "collapsed": false
   },
   "outputs": [
    {
     "data": {
      "text/html": [
       "<div>\n",
       "<table border=\"1\" class=\"dataframe\">\n",
       "  <thead>\n",
       "    <tr style=\"text-align: right;\">\n",
       "      <th></th>\n",
       "      <th>3</th>\n",
       "      <th>4</th>\n",
       "      <th>5</th>\n",
       "      <th>6</th>\n",
       "      <th>7</th>\n",
       "      <th>8</th>\n",
       "      <th>9</th>\n",
       "      <th>10</th>\n",
       "      <th>11</th>\n",
       "      <th>12</th>\n",
       "      <th>13</th>\n",
       "    </tr>\n",
       "  </thead>\n",
       "  <tbody>\n",
       "    <tr>\n",
       "      <th>7</th>\n",
       "      <td>India</td>\n",
       "      <td>All ages</td>\n",
       "      <td>1210854977</td>\n",
       "      <td>623270258</td>\n",
       "      <td>587584719</td>\n",
       "      <td>833748852</td>\n",
       "      <td>427781058</td>\n",
       "      <td>405967794</td>\n",
       "      <td>377106125</td>\n",
       "      <td>195489200</td>\n",
       "      <td>181616925</td>\n",
       "    </tr>\n",
       "    <tr>\n",
       "      <th>8</th>\n",
       "      <td>India</td>\n",
       "      <td>0</td>\n",
       "      <td>20311234</td>\n",
       "      <td>10633298</td>\n",
       "      <td>9677936</td>\n",
       "      <td>14884690</td>\n",
       "      <td>7784009</td>\n",
       "      <td>7100681</td>\n",
       "      <td>5426544</td>\n",
       "      <td>2849289</td>\n",
       "      <td>2577255</td>\n",
       "    </tr>\n",
       "    <tr>\n",
       "      <th>9</th>\n",
       "      <td>India</td>\n",
       "      <td>1</td>\n",
       "      <td>21755197</td>\n",
       "      <td>11381468</td>\n",
       "      <td>10373729</td>\n",
       "      <td>15731709</td>\n",
       "      <td>8216086</td>\n",
       "      <td>7515623</td>\n",
       "      <td>6023488</td>\n",
       "      <td>3165382</td>\n",
       "      <td>2858106</td>\n",
       "    </tr>\n",
       "    <tr>\n",
       "      <th>10</th>\n",
       "      <td>India</td>\n",
       "      <td>2</td>\n",
       "      <td>23056268</td>\n",
       "      <td>11952853</td>\n",
       "      <td>11103415</td>\n",
       "      <td>17065758</td>\n",
       "      <td>8827253</td>\n",
       "      <td>8238505</td>\n",
       "      <td>5990510</td>\n",
       "      <td>3125600</td>\n",
       "      <td>2864910</td>\n",
       "    </tr>\n",
       "    <tr>\n",
       "      <th>11</th>\n",
       "      <td>India</td>\n",
       "      <td>3</td>\n",
       "      <td>23974041</td>\n",
       "      <td>12331431</td>\n",
       "      <td>11642610</td>\n",
       "      <td>17778869</td>\n",
       "      <td>9116778</td>\n",
       "      <td>8662091</td>\n",
       "      <td>6195172</td>\n",
       "      <td>3214653</td>\n",
       "      <td>2980519</td>\n",
       "    </tr>\n",
       "  </tbody>\n",
       "</table>\n",
       "</div>"
      ],
      "text/plain": [
       "       3         4           5          6          7          8          9   \\\n",
       "7   India  All ages  1210854977  623270258  587584719  833748852  427781058   \n",
       "8   India         0    20311234   10633298    9677936   14884690    7784009   \n",
       "9   India         1    21755197   11381468   10373729   15731709    8216086   \n",
       "10  India         2    23056268   11952853   11103415   17065758    8827253   \n",
       "11  India         3    23974041   12331431   11642610   17778869    9116778   \n",
       "\n",
       "           10         11         12         13  \n",
       "7   405967794  377106125  195489200  181616925  \n",
       "8     7100681    5426544    2849289    2577255  \n",
       "9     7515623    6023488    3165382    2858106  \n",
       "10    8238505    5990510    3125600    2864910  \n",
       "11    8662091    6195172    3214653    2980519  "
      ]
     },
     "execution_count": 11,
     "metadata": {},
     "output_type": "execute_result"
    }
   ],
   "source": [
    "df.head()"
   ]
  },
  {
   "cell_type": "code",
   "execution_count": 12,
   "metadata": {
    "collapsed": true
   },
   "outputs": [],
   "source": [
    "indiadf = df.ix[:108]"
   ]
  },
  {
   "cell_type": "code",
   "execution_count": 13,
   "metadata": {
    "collapsed": false
   },
   "outputs": [
    {
     "data": {
      "text/html": [
       "<div>\n",
       "<table border=\"1\" class=\"dataframe\">\n",
       "  <thead>\n",
       "    <tr style=\"text-align: right;\">\n",
       "      <th></th>\n",
       "      <th>3</th>\n",
       "      <th>4</th>\n",
       "      <th>5</th>\n",
       "      <th>6</th>\n",
       "      <th>7</th>\n",
       "      <th>8</th>\n",
       "      <th>9</th>\n",
       "      <th>10</th>\n",
       "      <th>11</th>\n",
       "      <th>12</th>\n",
       "      <th>13</th>\n",
       "    </tr>\n",
       "  </thead>\n",
       "  <tbody>\n",
       "    <tr>\n",
       "      <th>104</th>\n",
       "      <td>India</td>\n",
       "      <td>96</td>\n",
       "      <td>120268</td>\n",
       "      <td>57894</td>\n",
       "      <td>62374</td>\n",
       "      <td>81063</td>\n",
       "      <td>39794</td>\n",
       "      <td>41269</td>\n",
       "      <td>39205</td>\n",
       "      <td>18100</td>\n",
       "      <td>21105</td>\n",
       "    </tr>\n",
       "    <tr>\n",
       "      <th>105</th>\n",
       "      <td>India</td>\n",
       "      <td>97</td>\n",
       "      <td>71413</td>\n",
       "      <td>35238</td>\n",
       "      <td>36175</td>\n",
       "      <td>46220</td>\n",
       "      <td>22995</td>\n",
       "      <td>23225</td>\n",
       "      <td>25193</td>\n",
       "      <td>12243</td>\n",
       "      <td>12950</td>\n",
       "    </tr>\n",
       "    <tr>\n",
       "      <th>106</th>\n",
       "      <td>India</td>\n",
       "      <td>98</td>\n",
       "      <td>104511</td>\n",
       "      <td>48393</td>\n",
       "      <td>56118</td>\n",
       "      <td>73026</td>\n",
       "      <td>33499</td>\n",
       "      <td>39527</td>\n",
       "      <td>31485</td>\n",
       "      <td>14894</td>\n",
       "      <td>16591</td>\n",
       "    </tr>\n",
       "    <tr>\n",
       "      <th>107</th>\n",
       "      <td>India</td>\n",
       "      <td>99</td>\n",
       "      <td>64571</td>\n",
       "      <td>28284</td>\n",
       "      <td>36287</td>\n",
       "      <td>46964</td>\n",
       "      <td>20663</td>\n",
       "      <td>26301</td>\n",
       "      <td>17607</td>\n",
       "      <td>7621</td>\n",
       "      <td>9986</td>\n",
       "    </tr>\n",
       "    <tr>\n",
       "      <th>108</th>\n",
       "      <td>India</td>\n",
       "      <td>100+</td>\n",
       "      <td>605778</td>\n",
       "      <td>289325</td>\n",
       "      <td>316453</td>\n",
       "      <td>407464</td>\n",
       "      <td>193465</td>\n",
       "      <td>213999</td>\n",
       "      <td>198314</td>\n",
       "      <td>95860</td>\n",
       "      <td>102454</td>\n",
       "    </tr>\n",
       "  </tbody>\n",
       "</table>\n",
       "</div>"
      ],
      "text/plain": [
       "        3     4       5       6       7       8       9       10      11  \\\n",
       "104  India    96  120268   57894   62374   81063   39794   41269   39205   \n",
       "105  India    97   71413   35238   36175   46220   22995   23225   25193   \n",
       "106  India    98  104511   48393   56118   73026   33499   39527   31485   \n",
       "107  India    99   64571   28284   36287   46964   20663   26301   17607   \n",
       "108  India  100+  605778  289325  316453  407464  193465  213999  198314   \n",
       "\n",
       "        12      13  \n",
       "104  18100   21105  \n",
       "105  12243   12950  \n",
       "106  14894   16591  \n",
       "107   7621    9986  \n",
       "108  95860  102454  "
      ]
     },
     "execution_count": 13,
     "metadata": {},
     "output_type": "execute_result"
    }
   ],
   "source": [
    "indiadf.tail()"
   ]
  },
  {
   "cell_type": "markdown",
   "metadata": {},
   "source": [
    "### Rename dataframe columns"
   ]
  },
  {
   "cell_type": "markdown",
   "metadata": {},
   "source": [
    "palce , age , total , mlaes , femlaes , rural_total , rural_males , rural_females , urb_total , urb_males , urb_females"
   ]
  },
  {
   "cell_type": "code",
   "execution_count": 14,
   "metadata": {
    "collapsed": true
   },
   "outputs": [],
   "source": [
    "indiadf.columns = [ \"palce\" , \"age\" , \"total\" , \"males\" , \"females\" , \"rural_total\" , \"rural_males\" , \"rural_females\" , \"urb_total\" , \"urb_males\" , \"urb_females\" ]"
   ]
  },
  {
   "cell_type": "code",
   "execution_count": 15,
   "metadata": {
    "collapsed": false
   },
   "outputs": [
    {
     "data": {
      "text/plain": [
       "[RangeIndex(start=7, stop=109, step=1),\n",
       " Index(['palce', 'age', 'total', 'males', 'females', 'rural_total',\n",
       "        'rural_males', 'rural_females', 'urb_total', 'urb_males',\n",
       "        'urb_females'],\n",
       "       dtype='object')]"
      ]
     },
     "execution_count": 15,
     "metadata": {},
     "output_type": "execute_result"
    }
   ],
   "source": [
    "indiadf.axes"
   ]
  },
  {
   "cell_type": "markdown",
   "metadata": {},
   "source": [
    "### set matplotlib to work inline and import pyplot"
   ]
  },
  {
   "cell_type": "code",
   "execution_count": 16,
   "metadata": {
    "collapsed": true
   },
   "outputs": [],
   "source": [
    "% matplotlib inline"
   ]
  },
  {
   "cell_type": "code",
   "execution_count": 17,
   "metadata": {
    "collapsed": false
   },
   "outputs": [],
   "source": [
    "from matplotlib import pyplot as p, patches as pt"
   ]
  },
  {
   "cell_type": "markdown",
   "metadata": {},
   "source": [
    "# Start plotting the data"
   ]
  },
  {
   "cell_type": "code",
   "execution_count": 18,
   "metadata": {
    "collapsed": true
   },
   "outputs": [],
   "source": [
    "df = indiadf"
   ]
  },
  {
   "cell_type": "code",
   "execution_count": 19,
   "metadata": {
    "collapsed": false
   },
   "outputs": [],
   "source": [
    "df.reset_index(inplace=True, drop=True)"
   ]
  },
  {
   "cell_type": "code",
   "execution_count": 20,
   "metadata": {
    "collapsed": false
   },
   "outputs": [],
   "source": [
    "# fix small data problem,s before proceeding\n",
    "\n",
    "# all ages is removed\n",
    "# 100+ is considered as  101\n",
    "\n",
    "df = df.ix[1:] # remove first row\n",
    "buffer = df.set_value(100, 1 , 101 , takeable = True) # buffer so that it doesnt print output into notebook"
   ]
  },
  {
   "cell_type": "code",
   "execution_count": 21,
   "metadata": {
    "collapsed": false
   },
   "outputs": [
    {
     "data": {
      "text/html": [
       "<div>\n",
       "<table border=\"1\" class=\"dataframe\">\n",
       "  <thead>\n",
       "    <tr style=\"text-align: right;\">\n",
       "      <th></th>\n",
       "      <th>palce</th>\n",
       "      <th>age</th>\n",
       "      <th>total</th>\n",
       "      <th>males</th>\n",
       "      <th>females</th>\n",
       "      <th>rural_total</th>\n",
       "      <th>rural_males</th>\n",
       "      <th>rural_females</th>\n",
       "      <th>urb_total</th>\n",
       "      <th>urb_males</th>\n",
       "      <th>urb_females</th>\n",
       "    </tr>\n",
       "  </thead>\n",
       "  <tbody>\n",
       "    <tr>\n",
       "      <th>1</th>\n",
       "      <td>India</td>\n",
       "      <td>0</td>\n",
       "      <td>20311234</td>\n",
       "      <td>10633298</td>\n",
       "      <td>9677936</td>\n",
       "      <td>14884690</td>\n",
       "      <td>7784009</td>\n",
       "      <td>7100681</td>\n",
       "      <td>5426544</td>\n",
       "      <td>2849289</td>\n",
       "      <td>2577255</td>\n",
       "    </tr>\n",
       "    <tr>\n",
       "      <th>2</th>\n",
       "      <td>India</td>\n",
       "      <td>1</td>\n",
       "      <td>21755197</td>\n",
       "      <td>11381468</td>\n",
       "      <td>10373729</td>\n",
       "      <td>15731709</td>\n",
       "      <td>8216086</td>\n",
       "      <td>7515623</td>\n",
       "      <td>6023488</td>\n",
       "      <td>3165382</td>\n",
       "      <td>2858106</td>\n",
       "    </tr>\n",
       "  </tbody>\n",
       "</table>\n",
       "</div>"
      ],
      "text/plain": [
       "   palce age     total     males   females rural_total rural_males  \\\n",
       "1  India   0  20311234  10633298   9677936    14884690     7784009   \n",
       "2  India   1  21755197  11381468  10373729    15731709     8216086   \n",
       "\n",
       "  rural_females urb_total urb_males urb_females  \n",
       "1       7100681   5426544   2849289     2577255  \n",
       "2       7515623   6023488   3165382     2858106  "
      ]
     },
     "execution_count": 21,
     "metadata": {},
     "output_type": "execute_result"
    }
   ],
   "source": [
    "df.head(2)"
   ]
  },
  {
   "cell_type": "code",
   "execution_count": 22,
   "metadata": {
    "collapsed": false
   },
   "outputs": [
    {
     "data": {
      "text/html": [
       "<div>\n",
       "<table border=\"1\" class=\"dataframe\">\n",
       "  <thead>\n",
       "    <tr style=\"text-align: right;\">\n",
       "      <th></th>\n",
       "      <th>palce</th>\n",
       "      <th>age</th>\n",
       "      <th>total</th>\n",
       "      <th>males</th>\n",
       "      <th>females</th>\n",
       "      <th>rural_total</th>\n",
       "      <th>rural_males</th>\n",
       "      <th>rural_females</th>\n",
       "      <th>urb_total</th>\n",
       "      <th>urb_males</th>\n",
       "      <th>urb_females</th>\n",
       "    </tr>\n",
       "  </thead>\n",
       "  <tbody>\n",
       "    <tr>\n",
       "      <th>100</th>\n",
       "      <td>India</td>\n",
       "      <td>99</td>\n",
       "      <td>64571</td>\n",
       "      <td>28284</td>\n",
       "      <td>36287</td>\n",
       "      <td>46964</td>\n",
       "      <td>20663</td>\n",
       "      <td>26301</td>\n",
       "      <td>17607</td>\n",
       "      <td>7621</td>\n",
       "      <td>9986</td>\n",
       "    </tr>\n",
       "    <tr>\n",
       "      <th>101</th>\n",
       "      <td>India</td>\n",
       "      <td>101</td>\n",
       "      <td>605778</td>\n",
       "      <td>289325</td>\n",
       "      <td>316453</td>\n",
       "      <td>407464</td>\n",
       "      <td>193465</td>\n",
       "      <td>213999</td>\n",
       "      <td>198314</td>\n",
       "      <td>95860</td>\n",
       "      <td>102454</td>\n",
       "    </tr>\n",
       "  </tbody>\n",
       "</table>\n",
       "</div>"
      ],
      "text/plain": [
       "     palce  age   total   males females rural_total rural_males rural_females  \\\n",
       "100  India   99   64571   28284   36287       46964       20663         26301   \n",
       "101  India  101  605778  289325  316453      407464      193465        213999   \n",
       "\n",
       "    urb_total urb_males urb_females  \n",
       "100     17607      7621        9986  \n",
       "101    198314     95860      102454  "
      ]
     },
     "execution_count": 22,
     "metadata": {},
     "output_type": "execute_result"
    }
   ],
   "source": [
    "df.tail(2)"
   ]
  },
  {
   "cell_type": "markdown",
   "metadata": {},
   "source": [
    "## Population by age"
   ]
  },
  {
   "cell_type": "code",
   "execution_count": 23,
   "metadata": {
    "collapsed": false
   },
   "outputs": [
    {
     "data": {
      "image/png": "[encoded data removed]",
      "text/plain": [
       "<matplotlib.figure.Figure at 0x7b18310>"
      ]
     },
     "metadata": {},
     "output_type": "display_data"
    }
   ],
   "source": [
    "p.plot( df['age'] , df['total'] , df['age'] ,  df['rural_total'] , df['age'] ,  df['urb_total'] )\n",
    "\n",
    "# set decorations\n",
    "p.ylabel('population in 10 millions')\n",
    "p.xlabel('age')\n",
    "\n",
    "p.grid(True)\n",
    "p.title('population by age')\n",
    "p.legend(['total','rural','urban'])\n",
    "\n",
    "p.show()"
   ]
  },
  {
   "cell_type": "markdown",
   "metadata": {
    "collapsed": true
   },
   "source": [
    "## Gender population differnce by age"
   ]
  },
  {
   "cell_type": "code",
   "execution_count": 24,
   "metadata": {
    "collapsed": true
   },
   "outputs": [],
   "source": [
    "males = df['males']\n",
    "females = df['females']\n",
    "\n",
    "r_males = df['rural_males']\n",
    "r_females = df['rural_females']\n",
    "\n",
    "u_males = df['urb_males']\n",
    "u_females = df['urb_females']"
   ]
  },
  {
   "cell_type": "code",
   "execution_count": 25,
   "metadata": {
    "collapsed": true
   },
   "outputs": [],
   "source": [
    "diff = females - males\n",
    "r_diff = r_females - r_males\n",
    "u_diff = u_females - u_males"
   ]
  },
  {
   "cell_type": "code",
   "execution_count": 26,
   "metadata": {
    "collapsed": false,
    "scrolled": true
   },
   "outputs": [
    {
     "data": {
      "image/png": "[encoded data removed]",
      "text/plain": [
       "<matplotlib.figure.Figure at 0x8a9a0f0>"
      ]
     },
     "metadata": {},
     "output_type": "display_data"
    }
   ],
   "source": [
    "p.plot( df['age'] , diff , df['age'] , r_diff , df['age'] , u_diff )\n",
    "\n",
    "# set decorations\n",
    "p.ylabel('population difference (F-M)')\n",
    "p.xlabel('age')\n",
    "\n",
    "p.grid(True)\n",
    "p.title('gender population difference by age ')\n",
    "p.legend(['total','rural','urban'])\n",
    "\n",
    "p.show()"
   ]
  },
  {
   "cell_type": "markdown",
   "metadata": {},
   "source": [
    "## Sex ratio by age"
   ]
  },
  {
   "cell_type": "markdown",
   "metadata": {},
   "source": [
    "#### ratio is in females to males (F:M)"
   ]
  },
  {
   "cell_type": "code",
   "execution_count": 27,
   "metadata": {
    "collapsed": true
   },
   "outputs": [],
   "source": [
    "ratio = females / males\n",
    "r_ratio = r_females / r_males\n",
    "u_ratio = u_females / u_males\n",
    "\n",
    "# normalize the data to be around 0\n",
    "ratio -= 1\n",
    "r_ratio -= 1\n",
    "u_ratio -= 1"
   ]
  },
  {
   "cell_type": "code",
   "execution_count": 28,
   "metadata": {
    "collapsed": false,
    "scrolled": true
   },
   "outputs": [
    {
     "data": {
      "image/png": "[encoded data removed]",
      "text/plain": [
       "<matplotlib.figure.Figure at 0x8aca310>"
      ]
     },
     "metadata": {},
     "output_type": "display_data"
    }
   ],
   "source": [
    "p.plot( df['age'] , ratio , df['age'] , r_ratio , df['age'] , u_ratio )\n",
    "\n",
    "# set decorations\n",
    "p.ylabel('population ratio (F:M)')\n",
    "p.xlabel('age')\n",
    "\n",
    "p.grid(True)\n",
    "p.title('Sex ratio by age')\n",
    "p.legend(['total','rural','urban'])\n",
    "\n",
    "p.show()"
   ]
  },
  {
   "cell_type": "markdown",
   "metadata": {
    "collapsed": false
   },
   "source": [
    "## Urban to Rural population ratios"
   ]
  },
  {
   "cell_type": "markdown",
   "metadata": {},
   "source": [
    "#### urban to rural total , male and female ratios"
   ]
  },
  {
   "cell_type": "code",
   "execution_count": 30,
   "metadata": {
    "collapsed": false
   },
   "outputs": [],
   "source": [
    "r_total = df['rural_total']\n",
    "u_total = df['urb_total']\n",
    "\n",
    "# urban to rural ratio\n",
    "ur_ratio = r_total / u_total\n",
    "\n",
    "# urban to rural males ratio\n",
    "ur_males_ratio = r_males / u_males\n",
    "\n",
    "# urban to rural females ratio\n",
    "ur_females_ratio = r_females / u_females"
   ]
  },
  {
   "cell_type": "markdown",
   "metadata": {},
   "source": [
    "#### plot the data"
   ]
  },
  {
   "cell_type": "code",
   "execution_count": 62,
   "metadata": {
    "collapsed": false
   },
   "outputs": [
    {
     "data": {
      "image/png": "[encoded data removed]",
      "text/plain": [
       "<matplotlib.figure.Figure at 0x9a95350>"
      ]
     },
     "metadata": {},
     "output_type": "display_data"
    }
   ],
   "source": [
    "p.figure(1)\n",
    "\n",
    "p.grid(True)\n",
    "\n",
    "# plot the total ratio\n",
    "p.subplot(221)\n",
    "p.title('Total population ratio' )\n",
    "p.ylabel('ratio')\n",
    "p.xlabel('age')\n",
    "p.plot(df['age'] , ur_ratio, color='b')\n",
    "\n",
    "# plot the male ratio\n",
    "p.subplot(222)\n",
    "p.title('Male population ratio')\n",
    "p.ylabel('ratio')\n",
    "p.xlabel('age')\n",
    "p.plot(df['age'] , ur_males_ratio, color='g')\n",
    "\n",
    "# plot the female ratio\n",
    "p.subplot(223)\n",
    "p.title('Female population ratio')\n",
    "p.ylabel('ratio')\n",
    "p.xlabel('age')\n",
    "p.plot( df['age'] , ur_females_ratio, color='r')\n",
    "\n",
    "# set layout mode to tight to prevent overlapping\n",
    "p.tight_layout()\n",
    "\n",
    "p.show()"
   ]
  },
  {
   "cell_type": "code",
   "execution_count": null,
   "metadata": {
    "collapsed": true
   },
   "outputs": [],
   "source": []
  }
 ],
 "metadata": {
  "anaconda-cloud": {},
  "kernelspec": {
   "display_name": "Python [default]",
   "language": "python",
   "name": "python3"
  },
  "language_info": {
   "codemirror_mode": {
    "name": "ipython",
    "version": 3
   },
   "file_extension": ".py",
   "mimetype": "text/x-python",
   "name": "python",
   "nbconvert_exporter": "python",
   "pygments_lexer": "ipython3",
   "version": "3.5.2"
  }
 },
 "nbformat": 4,
 "nbformat_minor": 2
}
